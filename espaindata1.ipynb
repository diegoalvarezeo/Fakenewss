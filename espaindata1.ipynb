{
  "nbformat": 4,
  "nbformat_minor": 0,
  "metadata": {
    "colab": {
      "name": "espaindata1.ipynb",
      "provenance": [],
      "authorship_tag": "ABX9TyOxzj2HrbQojoyF0hCyP+M9",
      "include_colab_link": true
    },
    "kernelspec": {
      "display_name": "Python 3",
      "name": "python3"
    },
    "language_info": {
      "name": "python"
    }
  },
  "cells": [
    {
      "cell_type": "markdown",
      "metadata": {
        "id": "view-in-github",
        "colab_type": "text"
      },
      "source": [
        "<a href=\"https://colab.research.google.com/github/diegoalvarezeo/Fakenewss/blob/main/espaindata1.ipynb\" target=\"_parent\"><img src=\"https://colab.research.google.com/assets/colab-badge.svg\" alt=\"Open In Colab\"/></a>"
      ]
    },
    {
      "cell_type": "code",
      "metadata": {
        "id": "L7EmOFz4hVHW"
      },
      "source": [
        "import numpy as np\n",
        "import pandas as pd\n",
        "import re\n",
        "from nltk.corpus import stopwords\n",
        "from nltk.stem.porter import PorterStemmer\n",
        "from sklearn.feature_extraction.text import TfidfVectorizer\n",
        "from sklearn.model_selection import train_test_split\n",
        "from sklearn.linear_model import LogisticRegression\n",
        "from sklearn.metrics import accuracy_score"
      ],
      "execution_count": 1,
      "outputs": []
    },
    {
      "cell_type": "code",
      "metadata": {
        "colab": {
          "base_uri": "https://localhost:8080/"
        },
        "id": "OeDzdqxrh_pK",
        "outputId": "1e0db958-97db-464e-e20c-75b2a7b19a11"
      },
      "source": [
        "import nltk\n",
        "nltk.download('stopwords')"
      ],
      "execution_count": 2,
      "outputs": [
        {
          "output_type": "stream",
          "text": [
            "[nltk_data] Downloading package stopwords to /root/nltk_data...\n",
            "[nltk_data]   Unzipping corpora/stopwords.zip.\n"
          ],
          "name": "stdout"
        },
        {
          "output_type": "execute_result",
          "data": {
            "text/plain": [
              "True"
            ]
          },
          "metadata": {
            "tags": []
          },
          "execution_count": 2
        }
      ]
    },
    {
      "cell_type": "code",
      "metadata": {
        "colab": {
          "base_uri": "https://localhost:8080/"
        },
        "id": "EwcgtqfYiHJP",
        "outputId": "c07ca228-8c5d-4e45-a221-c782180776e4"
      },
      "source": [
        "#mostrando palabras vacías\n",
        "print(stopwords.words('spanish'))"
      ],
      "execution_count": 3,
      "outputs": [
        {
          "output_type": "stream",
          "text": [
            "['de', 'la', 'que', 'el', 'en', 'y', 'a', 'los', 'del', 'se', 'las', 'por', 'un', 'para', 'con', 'no', 'una', 'su', 'al', 'lo', 'como', 'más', 'pero', 'sus', 'le', 'ya', 'o', 'este', 'sí', 'porque', 'esta', 'entre', 'cuando', 'muy', 'sin', 'sobre', 'también', 'me', 'hasta', 'hay', 'donde', 'quien', 'desde', 'todo', 'nos', 'durante', 'todos', 'uno', 'les', 'ni', 'contra', 'otros', 'ese', 'eso', 'ante', 'ellos', 'e', 'esto', 'mí', 'antes', 'algunos', 'qué', 'unos', 'yo', 'otro', 'otras', 'otra', 'él', 'tanto', 'esa', 'estos', 'mucho', 'quienes', 'nada', 'muchos', 'cual', 'poco', 'ella', 'estar', 'estas', 'algunas', 'algo', 'nosotros', 'mi', 'mis', 'tú', 'te', 'ti', 'tu', 'tus', 'ellas', 'nosotras', 'vosotros', 'vosotras', 'os', 'mío', 'mía', 'míos', 'mías', 'tuyo', 'tuya', 'tuyos', 'tuyas', 'suyo', 'suya', 'suyos', 'suyas', 'nuestro', 'nuestra', 'nuestros', 'nuestras', 'vuestro', 'vuestra', 'vuestros', 'vuestras', 'esos', 'esas', 'estoy', 'estás', 'está', 'estamos', 'estáis', 'están', 'esté', 'estés', 'estemos', 'estéis', 'estén', 'estaré', 'estarás', 'estará', 'estaremos', 'estaréis', 'estarán', 'estaría', 'estarías', 'estaríamos', 'estaríais', 'estarían', 'estaba', 'estabas', 'estábamos', 'estabais', 'estaban', 'estuve', 'estuviste', 'estuvo', 'estuvimos', 'estuvisteis', 'estuvieron', 'estuviera', 'estuvieras', 'estuviéramos', 'estuvierais', 'estuvieran', 'estuviese', 'estuvieses', 'estuviésemos', 'estuvieseis', 'estuviesen', 'estando', 'estado', 'estada', 'estados', 'estadas', 'estad', 'he', 'has', 'ha', 'hemos', 'habéis', 'han', 'haya', 'hayas', 'hayamos', 'hayáis', 'hayan', 'habré', 'habrás', 'habrá', 'habremos', 'habréis', 'habrán', 'habría', 'habrías', 'habríamos', 'habríais', 'habrían', 'había', 'habías', 'habíamos', 'habíais', 'habían', 'hube', 'hubiste', 'hubo', 'hubimos', 'hubisteis', 'hubieron', 'hubiera', 'hubieras', 'hubiéramos', 'hubierais', 'hubieran', 'hubiese', 'hubieses', 'hubiésemos', 'hubieseis', 'hubiesen', 'habiendo', 'habido', 'habida', 'habidos', 'habidas', 'soy', 'eres', 'es', 'somos', 'sois', 'son', 'sea', 'seas', 'seamos', 'seáis', 'sean', 'seré', 'serás', 'será', 'seremos', 'seréis', 'serán', 'sería', 'serías', 'seríamos', 'seríais', 'serían', 'era', 'eras', 'éramos', 'erais', 'eran', 'fui', 'fuiste', 'fue', 'fuimos', 'fuisteis', 'fueron', 'fuera', 'fueras', 'fuéramos', 'fuerais', 'fueran', 'fuese', 'fueses', 'fuésemos', 'fueseis', 'fuesen', 'sintiendo', 'sentido', 'sentida', 'sentidos', 'sentidas', 'siente', 'sentid', 'tengo', 'tienes', 'tiene', 'tenemos', 'tenéis', 'tienen', 'tenga', 'tengas', 'tengamos', 'tengáis', 'tengan', 'tendré', 'tendrás', 'tendrá', 'tendremos', 'tendréis', 'tendrán', 'tendría', 'tendrías', 'tendríamos', 'tendríais', 'tendrían', 'tenía', 'tenías', 'teníamos', 'teníais', 'tenían', 'tuve', 'tuviste', 'tuvo', 'tuvimos', 'tuvisteis', 'tuvieron', 'tuviera', 'tuvieras', 'tuviéramos', 'tuvierais', 'tuvieran', 'tuviese', 'tuvieses', 'tuviésemos', 'tuvieseis', 'tuviesen', 'teniendo', 'tenido', 'tenida', 'tenidos', 'tenidas', 'tened']\n"
          ],
          "name": "stdout"
        }
      ]
    },
    {
      "cell_type": "code",
      "metadata": {
        "id": "3-fki4XZiJuY"
      },
      "source": [
        "#Cargando nuestro dataset\n",
        "news_dataset = pd.read_csv('espanoln.csv')"
      ],
      "execution_count": 4,
      "outputs": []
    },
    {
      "cell_type": "code",
      "metadata": {
        "colab": {
          "base_uri": "https://localhost:8080/"
        },
        "id": "-kuAyLa1iU1G",
        "outputId": "dac84ea6-645c-4418-eb54-7a96e9a6039d"
      },
      "source": [
        "#Cantidad de noticias\n",
        "news_dataset.shape"
      ],
      "execution_count": 5,
      "outputs": [
        {
          "output_type": "execute_result",
          "data": {
            "text/plain": [
              "(10000, 6)"
            ]
          },
          "metadata": {
            "tags": []
          },
          "execution_count": 5
        }
      ]
    },
    {
      "cell_type": "code",
      "metadata": {
        "colab": {
          "base_uri": "https://localhost:8080/",
          "height": 304
        },
        "id": "Axsvt3xxix6P",
        "outputId": "3305bec8-ab28-422b-cfc0-1a3306e01ab3"
      },
      "source": [
        "#Estructura primeras 5 noticias\n",
        "news_dataset.head()"
      ],
      "execution_count": 6,
      "outputs": [
        {
          "output_type": "execute_result",
          "data": {
            "text/html": [
              "<div>\n",
              "<style scoped>\n",
              "    .dataframe tbody tr th:only-of-type {\n",
              "        vertical-align: middle;\n",
              "    }\n",
              "\n",
              "    .dataframe tbody tr th {\n",
              "        vertical-align: top;\n",
              "    }\n",
              "\n",
              "    .dataframe thead th {\n",
              "        text-align: right;\n",
              "    }\n",
              "</style>\n",
              "<table border=\"1\" class=\"dataframe\">\n",
              "  <thead>\n",
              "    <tr style=\"text-align: right;\">\n",
              "      <th></th>\n",
              "      <th>Unnamed: 0</th>\n",
              "      <th>authors</th>\n",
              "      <th>title</th>\n",
              "      <th>summary</th>\n",
              "      <th>text</th>\n",
              "      <th>label</th>\n",
              "    </tr>\n",
              "  </thead>\n",
              "  <tbody>\n",
              "    <tr>\n",
              "      <th>0</th>\n",
              "      <td>0</td>\n",
              "      <td>Christian Marquardt</td>\n",
              "      <td>La confianza empresarial de Alemania vuelve a ...</td>\n",
              "      <td>CHRISTIAN MARQUARDT / POOL EFELa confianza emp...</td>\n",
              "      <td>Angela Merkel ayer en Berlin tras la cumbre te...</td>\n",
              "      <td>1</td>\n",
              "    </tr>\n",
              "    <tr>\n",
              "      <th>1</th>\n",
              "      <td>1</td>\n",
              "      <td>NaN</td>\n",
              "      <td>El Covid dejará 10 cambios que te afectarán</td>\n",
              "      <td>NaN</td>\n",
              "      <td>\\n\\n\\n\\n\\nEnrique Quemada Clariana\\nFusiones y...</td>\n",
              "      <td>0</td>\n",
              "    </tr>\n",
              "    <tr>\n",
              "      <th>2</th>\n",
              "      <td>2</td>\n",
              "      <td>Ediciones Cinco Días, Getty Images</td>\n",
              "      <td>Quiero ser mi propio jefe</td>\n",
              "      <td>¿Cuántas veces no ha querido ser su propio jef...</td>\n",
              "      <td>¿Cuántas veces no ha querido ser su propio jef...</td>\n",
              "      <td>1</td>\n",
              "    </tr>\n",
              "    <tr>\n",
              "      <th>3</th>\n",
              "      <td>3</td>\n",
              "      <td>Pedro Gorospe, Javier Etxezarreta</td>\n",
              "      <td>Illa estima que entre mayo y junio pueden esta...</td>\n",
              "      <td>Javier Etxezarreta / EFEEl ministro de Sanidad...</td>\n",
              "      <td>El ministro de Sanidad, Salvador Illa, momento...</td>\n",
              "      <td>0</td>\n",
              "    </tr>\n",
              "    <tr>\n",
              "      <th>4</th>\n",
              "      <td>4</td>\n",
              "      <td>Web Financial Group</td>\n",
              "      <td>El Congreso aprueba los Presupuestos con 188 v...</td>\n",
              "      <td>El Pleno del Congreso ha aprobado el proyecto ...</td>\n",
              "      <td>El Pleno del Congreso ha aprobado el proyecto ...</td>\n",
              "      <td>1</td>\n",
              "    </tr>\n",
              "  </tbody>\n",
              "</table>\n",
              "</div>"
            ],
            "text/plain": [
              "   Unnamed: 0  ... label\n",
              "0           0  ...     1\n",
              "1           1  ...     0\n",
              "2           2  ...     1\n",
              "3           3  ...     0\n",
              "4           4  ...     1\n",
              "\n",
              "[5 rows x 6 columns]"
            ]
          },
          "metadata": {
            "tags": []
          },
          "execution_count": 6
        }
      ]
    },
    {
      "cell_type": "code",
      "metadata": {
        "colab": {
          "base_uri": "https://localhost:8080/"
        },
        "id": "jjmRseQLi1sS",
        "outputId": "c26a478b-b1ef-4efb-9feb-b2a87dfa70fe"
      },
      "source": [
        "#Verificando cantidad de datos vacios\n",
        "news_dataset.isnull().sum()"
      ],
      "execution_count": 7,
      "outputs": [
        {
          "output_type": "execute_result",
          "data": {
            "text/plain": [
              "Unnamed: 0       0\n",
              "authors       1419\n",
              "title            0\n",
              "summary         44\n",
              "text             0\n",
              "label            0\n",
              "dtype: int64"
            ]
          },
          "metadata": {
            "tags": []
          },
          "execution_count": 7
        }
      ]
    },
    {
      "cell_type": "code",
      "metadata": {
        "id": "gDiQuH5fi9Bm"
      },
      "source": [
        "#transformando datos vacios en cadenas vacias\n",
        "news_dataset = news_dataset.fillna('')"
      ],
      "execution_count": 8,
      "outputs": []
    },
    {
      "cell_type": "code",
      "metadata": {
        "id": "nzfVNfahi-gi"
      },
      "source": [
        "#Separando los datos, concatenación de fila autor y titulo\n",
        "news_dataset['content'] = news_dataset['authors']+' '+news_dataset['title']"
      ],
      "execution_count": 9,
      "outputs": []
    },
    {
      "cell_type": "code",
      "metadata": {
        "colab": {
          "base_uri": "https://localhost:8080/"
        },
        "id": "QVQs_TfcjG6R",
        "outputId": "f19f45fa-ce0f-4527-e271-1813a2e278f1"
      },
      "source": [
        "print(news_dataset['content'])"
      ],
      "execution_count": 10,
      "outputs": [
        {
          "output_type": "stream",
          "text": [
            "0       Christian Marquardt La confianza empresarial d...\n",
            "1             El Covid dejará 10 cambios que te afectarán\n",
            "2       Ediciones Cinco Días, Getty Images Quiero ser ...\n",
            "3       Pedro Gorospe, Javier Etxezarreta Illa estima ...\n",
            "4       Web Financial Group El Congreso aprueba los Pr...\n",
            "                              ...                        \n",
            "9995    María Antonia Sánchez-Vallejo, John Minchillo ...\n",
            "9996    Web Financial Group, Sergio García La FDA da l...\n",
            "9997    Pablo G. Bejerano, R. J. C. Inrupt: el plan B ...\n",
            "9998    Redacción, Estrategias De Inversión Las bolsas...\n",
            "9999    Raquel Pascual Cortés CSIF pide contratar 106....\n",
            "Name: content, Length: 10000, dtype: object\n"
          ],
          "name": "stdout"
        }
      ]
    },
    {
      "cell_type": "code",
      "metadata": {
        "id": "DlSFxWLVjKuB"
      },
      "source": [
        "X = news_dataset.drop(columns='label', axis=1)\n",
        "Y = news_dataset['label']"
      ],
      "execution_count": 11,
      "outputs": []
    },
    {
      "cell_type": "code",
      "metadata": {
        "colab": {
          "base_uri": "https://localhost:8080/"
        },
        "id": "g_t8Q4LPjNsw",
        "outputId": "a7642337-033b-4437-eb33-4d8729bf12b3"
      },
      "source": [
        "print(X)\n",
        "print(Y)"
      ],
      "execution_count": 12,
      "outputs": [
        {
          "output_type": "stream",
          "text": [
            "      Unnamed: 0  ...                                            content\n",
            "0              0  ...  Christian Marquardt La confianza empresarial d...\n",
            "1              1  ...        El Covid dejará 10 cambios que te afectarán\n",
            "2              2  ...  Ediciones Cinco Días, Getty Images Quiero ser ...\n",
            "3              3  ...  Pedro Gorospe, Javier Etxezarreta Illa estima ...\n",
            "4              4  ...  Web Financial Group El Congreso aprueba los Pr...\n",
            "...          ...  ...                                                ...\n",
            "9995        9995  ...  María Antonia Sánchez-Vallejo, John Minchillo ...\n",
            "9996        9996  ...  Web Financial Group, Sergio García La FDA da l...\n",
            "9997        9997  ...  Pablo G. Bejerano, R. J. C. Inrupt: el plan B ...\n",
            "9998        9998  ...  Redacción, Estrategias De Inversión Las bolsas...\n",
            "9999        9999  ...  Raquel Pascual Cortés CSIF pide contratar 106....\n",
            "\n",
            "[10000 rows x 6 columns]\n",
            "0       1\n",
            "1       0\n",
            "2       1\n",
            "3       0\n",
            "4       1\n",
            "       ..\n",
            "9995    0\n",
            "9996    1\n",
            "9997    0\n",
            "9998    1\n",
            "9999    0\n",
            "Name: label, Length: 10000, dtype: int64\n"
          ],
          "name": "stdout"
        }
      ]
    },
    {
      "cell_type": "code",
      "metadata": {
        "id": "Ao1Tf6JwjSWV"
      },
      "source": [
        "port_stem = PorterStemmer()"
      ],
      "execution_count": 13,
      "outputs": []
    },
    {
      "cell_type": "code",
      "metadata": {
        "id": "lTk0J7CmjUTX"
      },
      "source": [
        "def stemming(content):\n",
        "    stemmed_content = re.sub('[^a-zA-Z]',' ',content)\n",
        "    stemmed_content = stemmed_content.lower()\n",
        "    stemmed_content = stemmed_content.split()\n",
        "    stemmed_content = [port_stem.stem(word) for word in stemmed_content if not word in stopwords.words('spanish')]\n",
        "    stemmed_content = ' '.join(stemmed_content)\n",
        "    return stemmed_content"
      ],
      "execution_count": 14,
      "outputs": []
    },
    {
      "cell_type": "code",
      "metadata": {
        "id": "c2vY_qxfjXqn"
      },
      "source": [
        "news_dataset['content'] = news_dataset['content'].apply(stemming)"
      ],
      "execution_count": 15,
      "outputs": []
    },
    {
      "cell_type": "code",
      "metadata": {
        "colab": {
          "base_uri": "https://localhost:8080/"
        },
        "id": "MKWccQpFjgar",
        "outputId": "1a0dbf6c-ef8d-4f92-9f46-6e13b134b51e"
      },
      "source": [
        "#Datos completamente limpios\n",
        "print(news_dataset['content'])"
      ],
      "execution_count": 16,
      "outputs": [
        {
          "output_type": "stream",
          "text": [
            "0       christian marquardt confianza empresari aleman...\n",
            "1                            covid dejar cambio afectar n\n",
            "2       edicion cinco d as getti imag quiero ser propi...\n",
            "3       pedro gorosp javier etxezarreta illa estima ma...\n",
            "4       web financi group congreso aprueba presupuesto...\n",
            "                              ...                        \n",
            "9995    mar antonia s nchez vallejo john minchillo est...\n",
            "9996    web financi group sergio garc fda da luz verd ...\n",
            "9997    pablo g bejerano r j c inrupt plan b internet ...\n",
            "9998    redacci n estrategia inversi n bolsa europea r...\n",
            "9999    raquel pascual cort s csif pide contratar empl...\n",
            "Name: content, Length: 10000, dtype: object\n"
          ],
          "name": "stdout"
        }
      ]
    },
    {
      "cell_type": "code",
      "metadata": {
        "id": "f52wHEhojjvn"
      },
      "source": [
        "X = news_dataset['content'].values\n",
        "Y = news_dataset['label'].values"
      ],
      "execution_count": 17,
      "outputs": []
    },
    {
      "cell_type": "code",
      "metadata": {
        "colab": {
          "base_uri": "https://localhost:8080/"
        },
        "id": "vFKM0wxNjmfy",
        "outputId": "0347f4e2-1e0f-4c8f-bbc7-3cd5d67444ac"
      },
      "source": [
        "print(X)"
      ],
      "execution_count": 18,
      "outputs": [
        {
          "output_type": "stream",
          "text": [
            "['christian marquardt confianza empresari alemania vuelv caer noviembr tra interrumpirs recuperaci n econ mica'\n",
            " 'covid dejar cambio afectar n'\n",
            " 'edicion cinco d as getti imag quiero ser propio jefe' ...\n",
            " 'pablo g bejerano r j c inrupt plan b internet berner lee echa andar'\n",
            " 'redacci n estrategia inversi n bolsa europea rebotan ibex intenta recuperar punto'\n",
            " 'raquel pascual cort s csif pide contratar empleado p blico legislatura sanidad d cada']\n"
          ],
          "name": "stdout"
        }
      ]
    },
    {
      "cell_type": "code",
      "metadata": {
        "colab": {
          "base_uri": "https://localhost:8080/"
        },
        "id": "a6dcbtBSjo2S",
        "outputId": "8dbfc8cf-a7cc-4890-deb8-f7e9bf308780"
      },
      "source": [
        "print(Y)"
      ],
      "execution_count": 19,
      "outputs": [
        {
          "output_type": "stream",
          "text": [
            "[1 0 1 ... 0 1 0]\n"
          ],
          "name": "stdout"
        }
      ]
    },
    {
      "cell_type": "code",
      "metadata": {
        "colab": {
          "base_uri": "https://localhost:8080/"
        },
        "id": "dTxKa_-jjtZm",
        "outputId": "c116a112-7133-4934-8214-26afa2e9955a"
      },
      "source": [
        "Y.shape"
      ],
      "execution_count": 20,
      "outputs": [
        {
          "output_type": "execute_result",
          "data": {
            "text/plain": [
              "(10000,)"
            ]
          },
          "metadata": {
            "tags": []
          },
          "execution_count": 20
        }
      ]
    },
    {
      "cell_type": "code",
      "metadata": {
        "id": "HFtKZ6FMjvw_"
      },
      "source": [
        "#Convertiendo los datos en forma de texto a numerico(Entendible por el modelo)\n",
        "vectorizer = TfidfVectorizer()\n",
        "vectorizer.fit(X)\n",
        "\n",
        "X = vectorizer.transform(X)"
      ],
      "execution_count": 21,
      "outputs": []
    },
    {
      "cell_type": "code",
      "metadata": {
        "colab": {
          "base_uri": "https://localhost:8080/"
        },
        "id": "djJxbBlkj6S1",
        "outputId": "4d6e63bb-25a9-4e8a-822c-7393d82d99b8"
      },
      "source": [
        "#Datos convertidos\n",
        "print(X)"
      ],
      "execution_count": 22,
      "outputs": [
        {
          "output_type": "stream",
          "text": [
            "  (0, 14357)\t0.24061512442433144\n",
            "  (0, 13594)\t0.17742911070791573\n",
            "  (0, 11443)\t0.2182262090163248\n",
            "  (0, 9564)\t0.24061512442433144\n",
            "  (0, 8836)\t0.23686549860017486\n",
            "  (0, 8554)\t0.37442263125641434\n",
            "  (0, 7319)\t0.37442263125641434\n",
            "  (0, 4804)\t0.2819164854843236\n",
            "  (0, 4592)\t0.2328997112750427\n",
            "  (0, 3119)\t0.2858538982721981\n",
            "  (0, 2681)\t0.33837456799890714\n",
            "  (0, 2158)\t0.2819164854843236\n",
            "  (0, 553)\t0.24332939327936148\n",
            "  (1, 3834)\t0.5634997303601084\n",
            "  (1, 3450)\t0.33903979036394155\n",
            "  (1, 2220)\t0.4814931433962023\n",
            "  (1, 344)\t0.5793827985852736\n",
            "  (2, 12528)\t0.28164677237872404\n",
            "  (2, 11150)\t0.48917859782600703\n",
            "  (2, 10955)\t0.4238382466975975\n",
            "  (2, 7512)\t0.43838276839144497\n",
            "  (2, 6927)\t0.2860840493095398\n",
            "  (2, 6199)\t0.2860840493095398\n",
            "  (2, 4609)\t0.27633330974400333\n",
            "  (2, 2734)\t0.18634236789104328\n",
            "  :\t:\n",
            "  (9997, 4572)\t0.3324022462789719\n",
            "  (9997, 1731)\t0.4049345758039711\n",
            "  (9997, 1672)\t0.3659489323487363\n",
            "  (9997, 792)\t0.3659489323487363\n",
            "  (9998, 11458)\t0.25230470126337473\n",
            "  (9998, 11447)\t0.3656796722256142\n",
            "  (9998, 11346)\t0.4869121625359606\n",
            "  (9998, 11079)\t0.2929999282942195\n",
            "  (9998, 7349)\t0.23243409413552676\n",
            "  (9998, 7276)\t0.40459482514666467\n",
            "  (9998, 6844)\t0.23654669005465087\n",
            "  (9998, 5276)\t0.31859068989786465\n",
            "  (9998, 5210)\t0.2435649410831825\n",
            "  (9998, 1895)\t0.21257346399110474\n",
            "  (9999, 12296)\t0.2816653907399162\n",
            "  (9999, 11245)\t0.24783630051971828\n",
            "  (9999, 10410)\t0.2473927215558031\n",
            "  (9999, 10109)\t0.24199855645662352\n",
            "  (9999, 7961)\t0.3715646725233465\n",
            "  (9999, 4796)\t0.2990837437328573\n",
            "  (9999, 3559)\t0.4200527338036195\n",
            "  (9999, 3414)\t0.24199855645662352\n",
            "  (9999, 3310)\t0.35366917179779395\n",
            "  (9999, 2150)\t0.265068093468926\n",
            "  (9999, 1846)\t0.2856804970717072\n"
          ],
          "name": "stdout"
        }
      ]
    },
    {
      "cell_type": "code",
      "metadata": {
        "id": "D2yVbr32j9Mp"
      },
      "source": [
        "#Dividiendo los datos en datos de entrenamiento y datos de testeo\n",
        "#Datos de entrenamiento 80%\n",
        "#Datos de testeo 20%\n",
        "X_train, X_test, Y_train, Y_test = train_test_split(X, Y, test_size = 0.2, stratify=Y, random_state=2)"
      ],
      "execution_count": 23,
      "outputs": []
    },
    {
      "cell_type": "code",
      "metadata": {
        "id": "NOkr68ckj_pu"
      },
      "source": [
        "model = LogisticRegression()"
      ],
      "execution_count": 24,
      "outputs": []
    },
    {
      "cell_type": "code",
      "metadata": {
        "colab": {
          "base_uri": "https://localhost:8080/"
        },
        "id": "hidvFP51kBqZ",
        "outputId": "194dde5a-0b89-4f6d-d81a-b3e4c0418e0c"
      },
      "source": [
        "model.fit(X_train, Y_train)"
      ],
      "execution_count": 25,
      "outputs": [
        {
          "output_type": "execute_result",
          "data": {
            "text/plain": [
              "LogisticRegression(C=1.0, class_weight=None, dual=False, fit_intercept=True,\n",
              "                   intercept_scaling=1, l1_ratio=None, max_iter=100,\n",
              "                   multi_class='auto', n_jobs=None, penalty='l2',\n",
              "                   random_state=None, solver='lbfgs', tol=0.0001, verbose=0,\n",
              "                   warm_start=False)"
            ]
          },
          "metadata": {
            "tags": []
          },
          "execution_count": 25
        }
      ]
    },
    {
      "cell_type": "code",
      "metadata": {
        "id": "7vEka91dkEXL"
      },
      "source": [
        "# Precision del modelo en datos de entrenamiento\n",
        "X_train_prediction = model.predict(X_train)\n",
        "training_data_accuracy = accuracy_score(X_train_prediction, Y_train)"
      ],
      "execution_count": 26,
      "outputs": []
    },
    {
      "cell_type": "code",
      "metadata": {
        "colab": {
          "base_uri": "https://localhost:8080/"
        },
        "id": "IegrLxm8kGqS",
        "outputId": "f089e01b-6f13-4cd8-ab8b-ca3599db4be0"
      },
      "source": [
        "print('Precisión datos de entrenamiento : ', training_data_accuracy)"
      ],
      "execution_count": 27,
      "outputs": [
        {
          "output_type": "stream",
          "text": [
            "Precisión datos de entrenamiento :  0.834375\n"
          ],
          "name": "stdout"
        }
      ]
    },
    {
      "cell_type": "code",
      "metadata": {
        "id": "dvn2wNKa7f4n"
      },
      "source": [
        "from sklearn.metrics import confusion_matrix"
      ],
      "execution_count": 28,
      "outputs": []
    },
    {
      "cell_type": "code",
      "metadata": {
        "colab": {
          "base_uri": "https://localhost:8080/"
        },
        "id": "SmK8LFfg8Wxc",
        "outputId": "2a3e1082-4bb7-4a65-c245-e3c2ac9b3a36"
      },
      "source": [
        "confusion_matrix(X_train_prediction, Y_train)"
      ],
      "execution_count": 29,
      "outputs": [
        {
          "output_type": "execute_result",
          "data": {
            "text/plain": [
              "array([[3344,  669],\n",
              "       [ 656, 3331]])"
            ]
          },
          "metadata": {
            "tags": []
          },
          "execution_count": 29
        }
      ]
    },
    {
      "cell_type": "code",
      "metadata": {
        "id": "Cdmp28gzkJ5o"
      },
      "source": [
        "# Precision de los datos de testeo\n",
        "X_test_prediction = model.predict(X_test)\n",
        "test_data_accuracy = accuracy_score(X_test_prediction, Y_test)"
      ],
      "execution_count": 30,
      "outputs": []
    },
    {
      "cell_type": "code",
      "metadata": {
        "colab": {
          "base_uri": "https://localhost:8080/"
        },
        "id": "p9knqLyXkNMH",
        "outputId": "f13a3cbf-4e9d-43f3-dab8-c8a0ed617a9a"
      },
      "source": [
        "print('Precisión de los datos de testeo : ', test_data_accuracy)"
      ],
      "execution_count": 31,
      "outputs": [
        {
          "output_type": "stream",
          "text": [
            "Precisión de los datos de testeo :  0.5045\n"
          ],
          "name": "stdout"
        }
      ]
    },
    {
      "cell_type": "code",
      "metadata": {
        "colab": {
          "base_uri": "https://localhost:8080/"
        },
        "id": "0OpmGTo4lmOy",
        "outputId": "698f1cf8-784f-4a05-ddeb-0d1af12c9ee7"
      },
      "source": [
        "print(Y_test[0])\n",
        "print(Y_test[5])\n",
        "print(Y_test[10])"
      ],
      "execution_count": 32,
      "outputs": [
        {
          "output_type": "stream",
          "text": [
            "0\n",
            "1\n",
            "1\n"
          ],
          "name": "stdout"
        }
      ]
    },
    {
      "cell_type": "markdown",
      "metadata": {
        "id": "kZ_9lk0u-VhP"
      },
      "source": [
        "Segundo Modelo de Entrenamiento\n",
        "**Clasificador de árbol de decisión**\n",
        "\n",
        "\n",
        "\n",
        "\n",
        "."
      ]
    },
    {
      "cell_type": "code",
      "metadata": {
        "id": "54b2Ioi7-bDy"
      },
      "source": [
        "from sklearn.tree import DecisionTreeClassifier"
      ],
      "execution_count": 33,
      "outputs": []
    },
    {
      "cell_type": "code",
      "metadata": {
        "colab": {
          "base_uri": "https://localhost:8080/"
        },
        "id": "jOrWG64I-iGg",
        "outputId": "a3b705fe-2594-4e7c-db4f-5e3862f93ba0"
      },
      "source": [
        "dtc = DecisionTreeClassifier()\n",
        "dtc.fit(X_train, Y_train)\n"
      ],
      "execution_count": 34,
      "outputs": [
        {
          "output_type": "execute_result",
          "data": {
            "text/plain": [
              "DecisionTreeClassifier(ccp_alpha=0.0, class_weight=None, criterion='gini',\n",
              "                       max_depth=None, max_features=None, max_leaf_nodes=None,\n",
              "                       min_impurity_decrease=0.0, min_impurity_split=None,\n",
              "                       min_samples_leaf=1, min_samples_split=2,\n",
              "                       min_weight_fraction_leaf=0.0, presort='deprecated',\n",
              "                       random_state=None, splitter='best')"
            ]
          },
          "metadata": {
            "tags": []
          },
          "execution_count": 34
        }
      ]
    },
    {
      "cell_type": "code",
      "metadata": {
        "id": "3c8-n_h-AUdQ"
      },
      "source": [
        "# Precision del modelo en datos de entrenamiento\n",
        "X_train_predictionn = dtc.predict(X_train)\n",
        "training_data_accuracyy = accuracy_score(X_train_predictionn, Y_train)"
      ],
      "execution_count": 35,
      "outputs": []
    },
    {
      "cell_type": "code",
      "metadata": {
        "colab": {
          "base_uri": "https://localhost:8080/"
        },
        "id": "kfmtQAWRA1u3",
        "outputId": "4f938bc1-0391-423c-ded8-dc34b51b61ae"
      },
      "source": [
        "print('Precisión datos de entrenamiento : ', training_data_accuracyy)"
      ],
      "execution_count": 36,
      "outputs": [
        {
          "output_type": "stream",
          "text": [
            "Precisión datos de entrenamiento :  0.9755\n"
          ],
          "name": "stdout"
        }
      ]
    },
    {
      "cell_type": "code",
      "metadata": {
        "id": "VaeUr3qLCmZI"
      },
      "source": [
        "# Precision de los datos de testeo\n",
        "X_test_predictionn = dtc.predict(X_test)\n",
        "test_data_accuracyy = accuracy_score(X_test_predictionn, Y_test)"
      ],
      "execution_count": 37,
      "outputs": []
    },
    {
      "cell_type": "code",
      "metadata": {
        "colab": {
          "base_uri": "https://localhost:8080/"
        },
        "id": "eN9YguD0DHAa",
        "outputId": "130c4032-0def-4613-8e6e-ca5b7ce09270"
      },
      "source": [
        "print('Precisión de los datos de testeo : ', test_data_accuracyy)"
      ],
      "execution_count": 38,
      "outputs": [
        {
          "output_type": "stream",
          "text": [
            "Precisión de los datos de testeo :  0.5095\n"
          ],
          "name": "stdout"
        }
      ]
    },
    {
      "cell_type": "markdown",
      "metadata": {
        "id": "l7wYi0rUB0E5"
      },
      "source": [
        "El resultado es practicamente el mismo"
      ]
    },
    {
      "cell_type": "markdown",
      "metadata": {
        "id": "b3pWOtGJCS5I"
      },
      "source": [
        "TESTEO PRIMER MODELO ELEGIDO REGRESIÓN LOGISTICA\n",
        "\n",
        "\n"
      ]
    },
    {
      "cell_type": "code",
      "metadata": {
        "colab": {
          "base_uri": "https://localhost:8080/"
        },
        "id": "zZlyMB7AB7-o",
        "outputId": "6b769b86-0976-4aec-8bf1-c6dbe5b10a26"
      },
      "source": [
        "print(Y_test[5])\n",
        "# 1= Falso"
      ],
      "execution_count": null,
      "outputs": [
        {
          "output_type": "stream",
          "text": [
            "1\n"
          ],
          "name": "stdout"
        }
      ]
    },
    {
      "cell_type": "code",
      "metadata": {
        "colab": {
          "base_uri": "https://localhost:8080/"
        },
        "id": "luiDLaDdlp96",
        "outputId": "52cffed9-87e4-4dad-8e45-cd64c0e569ce"
      },
      "source": [
        "#Codigo Verificador del modelo, entrega el resultado si la noticia es Falsa(1) o verdadera(0)\n",
        "X_new = X_test[5]\n",
        "\n",
        "prediction = model.predict(X_new)\n",
        "print(prediction)\n",
        "\n",
        "if (prediction[0]==0):\n",
        "  print('La noticia es real')\n",
        "else:\n",
        "  print('La noticia es falsa')"
      ],
      "execution_count": null,
      "outputs": [
        {
          "output_type": "stream",
          "text": [
            "[1]\n",
            "La noticia es falsa\n"
          ],
          "name": "stdout"
        }
      ]
    },
    {
      "cell_type": "code",
      "metadata": {
        "id": "Dla2akHaei4h"
      },
      "source": [
        ""
      ],
      "execution_count": null,
      "outputs": []
    }
  ]
}